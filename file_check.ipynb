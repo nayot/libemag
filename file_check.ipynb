{
 "cells": [
  {
   "cell_type": "markdown",
   "id": "28689e82-6625-48a2-841c-78be1c38d103",
   "metadata": {},
   "source": [
    "# Check File .ipynb ก่อนส่ง"
   ]
  },
  {
   "cell_type": "markdown",
   "id": "35bc94b6-7224-4def-bc98-fe5592ffcdfb",
   "metadata": {},
   "source": [
    "## Check Metadata\n",
    "\n",
    "**Path to filename to be checked**"
   ]
  },
  {
   "cell_type": "code",
   "execution_count": null,
   "id": "868a5a53-0768-4a3e-97ab-7d5a040a13e1",
   "metadata": {},
   "outputs": [],
   "source": [
    "file_path = \"/path/to/your/your/file.ipynb\"\n",
    "# file_path = \"C:\\\\path\\\\to\\\\your\\\\file.ipynb\" # สำหรับ Windows ต้องใช้ \\\\ เนื่องจาก \\ เป็น escape character\n",
    "\n",
    "# Convert to path object, so that it does not care if its linux or windows path\n",
    "path = Path(file_path)\n",
    "path"
   ]
  },
  {
   "cell_type": "markdown",
   "id": "de06d661-cd82-414d-aacf-8016e7f36093",
   "metadata": {},
   "source": [
    "**Filename Check**"
   ]
  },
  {
   "cell_type": "code",
   "execution_count": null,
   "id": "ede06483-28d6-4cda-aa67-78d33736c8ee",
   "metadata": {},
   "outputs": [],
   "source": [
    "import re\n",
    "filename = path.name\n",
    "\n",
    "pattern = r\"\\d{8}_\\w+.ipynb\"\n",
    "match = re.search(pattern, filename)\n",
    "if match:\n",
    "    print(\"Filename is correct\")\n",
    "else:\n",
    "    print(\"Incorrect filename!!!\")"
   ]
  },
  {
   "cell_type": "markdown",
   "id": "aaa638cd-c58f-463f-aab6-302de2024e1a",
   "metadata": {},
   "source": [
    "**Check Metadata**"
   ]
  },
  {
   "cell_type": "code",
   "execution_count": null,
   "id": "4051e067-9267-4ea4-a433-7543285c9026",
   "metadata": {},
   "outputs": [],
   "source": [
    "import nbformat\n",
    "\n",
    "# Function to check for cell metadata containing a specific keyword\n",
    "def find_nbgrader_metadata(file_path):\n",
    "    try:\n",
    "        # Open the Jupyter notebook file\n",
    "        with open(file_path, \"r\", encoding=\"utf-8\") as f:\n",
    "            notebook = nbformat.read(f, as_version=4)\n",
    "\n",
    "        # Loop through the cells to check for 'nbgrader' in metadata\n",
    "        found = False\n",
    "        for idx, cell in enumerate(notebook.cells):\n",
    "            if \"metadata\" in cell and \"nbgrader\" in cell.metadata:\n",
    "                # print(f\"Cell {idx + 1} contains 'nbgrader' metadata:\")\n",
    "                # print(cell.metadata[\"nbgrader\"])\n",
    "                print(\"Metadata found! Your file is good ...\")\n",
    "                found = True\n",
    "                return\n",
    "\n",
    "        if not found:\n",
    "            print(\"No cell contains 'nbgrader' metadata.\")\n",
    "    except Exception as e:\n",
    "        print(f\"Error reading the notebook file: {e}\")\n",
    "\n",
    "find_nbgrader_metadata(path)\n"
   ]
  }
 ],
 "metadata": {
  "kernelspec": {
   "display_name": "Python 3 (ipykernel)",
   "language": "python",
   "name": "python3"
  },
  "language_info": {
   "codemirror_mode": {
    "name": "ipython",
    "version": 3
   },
   "file_extension": ".py",
   "mimetype": "text/x-python",
   "name": "python",
   "nbconvert_exporter": "python",
   "pygments_lexer": "ipython3",
   "version": "3.11.7"
  }
 },
 "nbformat": 4,
 "nbformat_minor": 5
}
